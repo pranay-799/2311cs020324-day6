{
 "cells": [
  {
   "cell_type": "code",
   "execution_count": 1,
   "id": "0cad1b8e-ac20-4569-8de7-4bec13141ee2",
   "metadata": {},
   "outputs": [
    {
     "name": "stdout",
     "output_type": "stream",
     "text": [
      "First 5 rows of the dataset:\n",
      "         Date Product Region    Sales  Profit  Quantity\n",
      "0  2023-01-02  Tablet   East  1061.81  236.12         7\n",
      "1  2023-01-06  Laptop  North  1926.07  246.34         8\n",
      "2  2023-01-03  Tablet   East  1597.99  253.17         3\n",
      "3  2023-01-20  Tablet  North  1397.99  242.23         1\n",
      "4  2023-01-04  Laptop   West   734.03  140.36         4\n",
      "\n",
      "Basic statistics of numerical columns:\n",
      "             Sales      Profit   Quantity\n",
      "count    20.000000   20.000000  20.000000\n",
      "mean   1186.553000  211.533000   5.050000\n",
      "std     461.528444   66.916251   2.543826\n",
      "min     530.880000   82.160000   1.000000\n",
      "25%     774.517500  166.515000   2.750000\n",
      "50%    1104.865000  214.670000   5.000000\n",
      "75%    1571.080000  248.047500   7.250000\n",
      "max    1954.860000  364.970000   9.000000\n",
      "\n",
      "Mean of numerical columns:\n",
      "Sales       1186.553\n",
      "Profit       211.533\n",
      "Quantity       5.050\n",
      "dtype: float64\n",
      "\n",
      "Median of numerical columns:\n",
      "Sales       1104.865\n",
      "Profit       214.670\n",
      "Quantity       5.000\n",
      "dtype: float64\n",
      "\n",
      "Minimum values of numerical columns:\n",
      "Sales       530.88\n",
      "Profit       82.16\n",
      "Quantity      1.00\n",
      "dtype: float64\n",
      "\n",
      "Maximum values of numerical columns:\n",
      "Sales       1954.86\n",
      "Profit       364.97\n",
      "Quantity       9.00\n",
      "dtype: float64\n"
     ]
    }
   ],
   "source": [
    "import pandas as pd\n",
    "\n",
    "# Load the CSV file using Pandas\n",
    "sales_data = pd.read_csv(\"Day_7_sales_data (1).csv\")\n",
    "\n",
    "# Display the first 5 rows of the dataset\n",
    "print(\"First 5 rows of the dataset:\")\n",
    "print(sales_data.head())\n",
    "\n",
    "# Display basic statistics of numerical columns using describe()\n",
    "print(\"\\nBasic statistics of numerical columns:\")\n",
    "print(sales_data.describe())\n",
    "\n",
    "# Mean, Median, Min, and Max statistics\n",
    "print(\"\\nMean of numerical columns:\")\n",
    "print(sales_data.mean(numeric_only=True))\n",
    "\n",
    "print(\"\\nMedian of numerical columns:\")\n",
    "print(sales_data.median(numeric_only=True))\n",
    "\n",
    "print(\"\\nMinimum values of numerical columns:\")\n",
    "print(sales_data.min(numeric_only=True))\n",
    "\n",
    "print(\"\\nMaximum values of numerical columns:\")\n",
    "print(sales_data.max(numeric_only=True))\n"
   ]
  },
  {
   "cell_type": "code",
   "execution_count": 2,
   "id": "6b3e4670-e8d5-4ec0-8648-87cc620806af",
   "metadata": {},
   "outputs": [
    {
     "name": "stdout",
     "output_type": "stream",
     "text": [
      "Total Sales Per Region:\n",
      "Region\n",
      "East      5818.93\n",
      "North    10449.68\n",
      "South      936.84\n",
      "West      6525.61\n",
      "Name: Sales, dtype: float64\n",
      "\n",
      "Most Sold Product (based on quantity):\n",
      "Tablet\n",
      "\n",
      "Average Profit Margin Per Product:\n",
      "Product\n",
      "Keyboard      20.080696\n",
      "Laptop        17.112734\n",
      "Monitor       15.134989\n",
      "Smartphone    23.703647\n",
      "Tablet        19.955758\n",
      "Name: Profit Margin, dtype: float64\n"
     ]
    }
   ],
   "source": [
    "import pandas as pd\n",
    "\n",
    "# Load the CSV file into a DataFrame\n",
    "df = pd.read_csv('Day_7_sales_data (1).csv')\n",
    "\n",
    "# Task 1: Calculate the total sales for each region\n",
    "total_sales_per_region = df.groupby('Region')['Sales'].sum()\n",
    "\n",
    "# Task 2: Find the most sold product (based on quantity)\n",
    "most_sold_product = df.groupby('Product')['Quantity'].sum().idxmax()\n",
    "\n",
    "# Task 3: Compute the average profit margin for each product\n",
    "df['Profit Margin'] = (df['Profit'] / df['Sales']) * 100\n",
    "average_profit_margin_per_product = df.groupby('Product')['Profit Margin'].mean()\n",
    "\n",
    "# Display the results\n",
    "print(\"Total Sales Per Region:\")\n",
    "print(total_sales_per_region)\n",
    "\n",
    "print(\"\\nMost Sold Product (based on quantity):\")\n",
    "print(most_sold_product)\n",
    "\n",
    "print(\"\\nAverage Profit Margin Per Product:\")\n",
    "print(average_profit_margin_per_product)"
   ]
  },
  {
   "cell_type": "code",
   "execution_count": null,
   "id": "96d027ea-c2dc-4d9a-8c65-da675c15f6aa",
   "metadata": {},
   "outputs": [],
   "source": []
  }
 ],
 "metadata": {
  "kernelspec": {
   "display_name": "Python 3 (ipykernel)",
   "language": "python",
   "name": "python3"
  },
  "language_info": {
   "codemirror_mode": {
    "name": "ipython",
    "version": 3
   },
   "file_extension": ".py",
   "mimetype": "text/x-python",
   "name": "python",
   "nbconvert_exporter": "python",
   "pygments_lexer": "ipython3",
   "version": "3.12.7"
  }
 },
 "nbformat": 4,
 "nbformat_minor": 5
}
